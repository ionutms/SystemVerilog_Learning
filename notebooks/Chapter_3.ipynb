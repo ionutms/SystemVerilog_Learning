{
 "cells": [
  {
   "cell_type": "markdown",
   "id": "75b0b0ca",
   "metadata": {},
   "source": [
    "# Chapter 3: Operators and Expressions"
   ]
  },
  {
   "cell_type": "markdown",
   "id": "8de4109c",
   "metadata": {},
   "source": [
    "## Overview\n",
    "\n",
    "SystemVerilog provides a rich set of operators for performing various operations on data. Understanding these operators and their precedence is crucial for writing efficient and correct SystemVerilog code. This chapter covers all major operator categories with practical examples."
   ]
  },
  {
   "cell_type": "markdown",
   "id": "e6ff976d",
   "metadata": {},
   "source": [
    "## Arithmetic Operators\n",
    "\n",
    "Arithmetic operators perform mathematical operations on numeric values."
   ]
  },
  {
   "cell_type": "markdown",
   "id": "2462327e",
   "metadata": {},
   "source": [
    "### Basic Arithmetic Operators\n",
    "\n",
    "| Operator | Description | Example |\n",
    "|----------|-------------|---------|\n",
    "| `+` | Addition | `a + b` |\n",
    "| `-` | Subtraction | `a - b` |\n",
    "| `*` | Multiplication | `a * b` |\n",
    "| `/` | Division | `a / b` |\n",
    "| `%` | Modulus | `a % b` |\n",
    "| `**` | Exponentiation | `a ** b` |"
   ]
  },
  {
   "cell_type": "markdown",
   "id": "7ad15a94",
   "metadata": {},
   "source": [
    "### Examples\n",
    "\n",
    "```systemverilog\n",
    "module arithmetic_example;\n",
    "    logic [7:0] a = 8'd25;\n",
    "    logic [7:0] b = 8'd5;\n",
    "    logic [15:0] result;\n",
    "    \n",
    "    initial begin\n",
    "        result = a + b;     // result = 30\n",
    "        result = a - b;     // result = 20\n",
    "        result = a * b;     // result = 125\n",
    "        result = a / b;     // result = 5\n",
    "        result = a % b;     // result = 0 (25 % 5)\n",
    "        result = a ** 2;    // result = 625 (25^2)\n",
    "        \n",
    "        // Signed arithmetic\n",
    "        logic signed [7:0] x = -8'd10;\n",
    "        logic signed [7:0] y = 8'd3;\n",
    "        logic signed [15:0] signed_result;\n",
    "        \n",
    "        signed_result = x + y;  // -7\n",
    "        signed_result = x / y;  // -3 (truncated toward zero)\n",
    "    end\n",
    "endmodule\n",
    "```"
   ]
  },
  {
   "cell_type": "markdown",
   "id": "de8b7572",
   "metadata": {},
   "source": [
    "### Important Notes\n",
    "- Division by zero results in 'x' (unknown)\n",
    "- Integer division truncates toward zero\n",
    "- Modulus result has the same sign as the first operand"
   ]
  },
  {
   "cell_type": "markdown",
   "id": "7d9e88ec",
   "metadata": {},
   "source": [
    "## Logical and Bitwise Operators"
   ]
  },
  {
   "cell_type": "markdown",
   "id": "57b67b97",
   "metadata": {},
   "source": [
    "### Logical Operators\n",
    "\n",
    "Logical operators work on entire expressions and return 1-bit results.\n",
    "\n",
    "| Operator | Description | Example |\n",
    "|----------|-------------|---------|\n",
    "| `&&` | Logical AND | `(a > 0) && (b < 10)` |\n",
    "| `\\|\\|` | Logical OR | `(a == 0) \\|\\| (b == 0)` |\n",
    "| `!` | Logical NOT | `!(a == b)` |"
   ]
  },
  {
   "cell_type": "markdown",
   "id": "dbeb5554",
   "metadata": {},
   "source": [
    "### Bitwise Operators\n",
    "\n",
    "Bitwise operators work on individual bits of operands.\n",
    "\n",
    "| Operator | Description | Example |\n",
    "|----------|-------------|---------|\n",
    "| `&` | Bitwise AND | `a & b` |\n",
    "| `\\|` | Bitwise OR | `a \\| b` |\n",
    "| `^` | Bitwise XOR | `a ^ b` |\n",
    "| `~` | Bitwise NOT | `~a` |\n",
    "| `~&` | Bitwise NAND | `~&a` or `~(a & b)` |\n",
    "| `~\\|` | Bitwise NOR | `~\\|a` or `~(a \\| b)` |\n",
    "| `~^` or `^~` | Bitwise XNOR | `~^a` or `a ~^ b` |"
   ]
  },
  {
   "cell_type": "markdown",
   "id": "901f91c7",
   "metadata": {},
   "source": [
    "### Examples\n",
    "\n",
    "```systemverilog\n",
    "module logical_bitwise_example;\n",
    "    logic [3:0] a = 4'b1010;\n",
    "    logic [3:0] b = 4'b1100;\n",
    "    logic [3:0] result;\n",
    "    logic logical_result;\n",
    "    \n",
    "    initial begin\n",
    "        // Bitwise operations\n",
    "        result = a & b;     // 4'b1000\n",
    "        result = a | b;     // 4'b1110\n",
    "        result = a ^ b;     // 4'b0110\n",
    "        result = ~a;        // 4'b0101\n",
    "        result = ~&a;       // 1'b1 (NAND of all bits)\n",
    "        \n",
    "        // Logical operations\n",
    "        logical_result = (a > 0) && (b > 0);  // 1'b1\n",
    "        logical_result = (a == 0) || (b == 0); // 1'b0\n",
    "        logical_result = !(a == b);            // 1'b1\n",
    "        \n",
    "        $display(\"a = %b, b = %b\", a, b);\n",
    "        $display(\"a & b = %b\", a & b);\n",
    "        $display(\"a | b = %b\", a | b);\n",
    "        $display(\"a ^ b = %b\", a ^ b);\n",
    "    end\n",
    "endmodule\n",
    "```"
   ]
  },
  {
   "cell_type": "markdown",
   "id": "43c7dfcb",
   "metadata": {},
   "source": [
    "## Reduction Operators\n",
    "\n",
    "Reduction operators perform operations across all bits of a single operand, returning a 1-bit result.\n",
    "\n",
    "| Operator | Description | Equivalent |\n",
    "|----------|-------------|------------|\n",
    "| `&` | Reduction AND | `&a` = `a[0] & a[1] & ... & a[n]` |\n",
    "| `\\|` | Reduction OR | `\\|a` = `a[0] \\| a[1] \\| ... \\| a[n]` |\n",
    "| `^` | Reduction XOR | `^a` = `a[0] ^ a[1] ^ ... ^ a[n]` |\n",
    "| `~&` | Reduction NAND | `~(&a)` |\n",
    "| `~\\|` | Reduction NOR | `~(\\|a)` |\n",
    "| `~^` or `^~` | Reduction XNOR | `~(^a)` |"
   ]
  },
  {
   "cell_type": "markdown",
   "id": "94f1342f",
   "metadata": {},
   "source": [
    "### Examples\n",
    "\n",
    "```systemverilog\n",
    "module reduction_example;\n",
    "    logic [7:0] data = 8'b11010010;\n",
    "    logic result;\n",
    "    \n",
    "    initial begin\n",
    "        result = &data;   // 1'b0 (not all bits are 1)\n",
    "        result = |data;   // 1'b1 (at least one bit is 1)\n",
    "        result = ^data;   // 1'b1 (odd number of 1s - parity)\n",
    "        result = ~&data;  // 1'b1 (NAND - not all bits are 1)\n",
    "        result = ~|data;  // 1'b0 (NOR - not all bits are 0)\n",
    "        result = ~^data;  // 1'b0 (XNOR - even parity)\n",
    "        \n",
    "        $display(\"data = %b\", data);\n",
    "        $display(\"&data = %b (AND reduction)\", &data);\n",
    "        $display(\"|data = %b (OR reduction)\", |data);\n",
    "        $display(\"^data = %b (XOR reduction - parity)\", ^data);\n",
    "    end\n",
    "endmodule\n",
    "```"
   ]
  },
  {
   "cell_type": "markdown",
   "id": "86771657",
   "metadata": {},
   "source": [
    "## Shift Operators\n",
    "\n",
    "Shift operators move bits left or right within a vector."
   ]
  },
  {
   "cell_type": "markdown",
   "id": "6f67ed0d",
   "metadata": {},
   "source": [
    "### Logical Shift Operators\n",
    "\n",
    "| Operator | Description | Fill bits |\n",
    "|----------|-------------|-----------|\n",
    "| `<<` | Logical left shift | Zeros from right |\n",
    "| `>>` | Logical right shift | Zeros from left |"
   ]
  },
  {
   "cell_type": "markdown",
   "id": "000d0b34",
   "metadata": {},
   "source": [
    "### Arithmetic Shift Operators\n",
    "\n",
    "| Operator | Description | Fill bits |\n",
    "|----------|-------------|-----------|\n",
    "| `<<<` | Arithmetic left shift | Zeros from right |\n",
    "| `>>>` | Arithmetic right shift | Sign bit from left |"
   ]
  },
  {
   "cell_type": "markdown",
   "id": "ec13ca4c",
   "metadata": {},
   "source": [
    "### Examples\n",
    "\n",
    "```systemverilog\n",
    "module shift_example;\n",
    "    logic [7:0] data = 8'b10110100;\n",
    "    logic signed [7:0] signed_data = 8'sb10110100; // -76 in decimal\n",
    "    logic [7:0] result;\n",
    "    \n",
    "    initial begin\n",
    "        // Logical shifts\n",
    "        result = data << 2;     // 8'b10110100 -> 8'b11010000\n",
    "        result = data >> 2;     // 8'b10110100 -> 8'b00101101\n",
    "        \n",
    "        // Arithmetic shifts\n",
    "        result = data <<< 2;    // Same as logical left shift\n",
    "        result = signed_data >>> 2; // Sign extension: 8'b11101101\n",
    "        \n",
    "        $display(\"Original: %b (%d)\", data, data);\n",
    "        $display(\"Left shift 2: %b\", data << 2);\n",
    "        $display(\"Right shift 2: %b\", data >> 2);\n",
    "        $display(\"Signed data: %b (%d)\", signed_data, signed_data);\n",
    "        $display(\"Arithmetic right shift 2: %b (%d)\", signed_data >>> 2, signed_data >>> 2);\n",
    "    end\n",
    "endmodule\n",
    "```"
   ]
  },
  {
   "cell_type": "markdown",
   "id": "d1db1590",
   "metadata": {},
   "source": [
    "## Comparison and Equality Operators"
   ]
  },
  {
   "cell_type": "markdown",
   "id": "94824ba1",
   "metadata": {},
   "source": [
    "### Equality Operators\n",
    "\n",
    "| Operator | Description | X/Z handling |\n",
    "|----------|-------------|--------------|\n",
    "| `==` | Logical equality | X/Z → unknown result |\n",
    "| `!=` | Logical inequality | X/Z → unknown result |\n",
    "| `===` | Case equality | X/Z compared exactly |\n",
    "| `!==` | Case inequality | X/Z compared exactly |"
   ]
  },
  {
   "cell_type": "markdown",
   "id": "aaec8077",
   "metadata": {},
   "source": [
    "### Relational Operators\n",
    "\n",
    "| Operator | Description |\n",
    "|----------|-------------|\n",
    "| `<` | Less than |\n",
    "| `<=` | Less than or equal |\n",
    "| `>` | Greater than |\n",
    "| `>=` | Greater than or equal |"
   ]
  },
  {
   "cell_type": "markdown",
   "id": "b92a7e4e",
   "metadata": {},
   "source": [
    "### Examples\n",
    "\n",
    "```systemverilog\n",
    "module comparison_example;\n",
    "    logic [3:0] a = 4'b1010;\n",
    "    logic [3:0] b = 4'b1010;\n",
    "    logic [3:0] c = 4'b1x1z;\n",
    "    logic result;\n",
    "    \n",
    "    initial begin\n",
    "        // Equality comparisons\n",
    "        result = (a == b);      // 1'b1\n",
    "        result = (a != b);      // 1'b0\n",
    "        result = (a == c);      // 1'bx (unknown due to x/z)\n",
    "        result = (a === c);     // 1'b0 (exact comparison)\n",
    "        \n",
    "        // Relational comparisons\n",
    "        result = (a < 4'd15);   // 1'b1\n",
    "        result = (a <= b);      // 1'b1\n",
    "        result = (a > 4'd5);    // 1'b1\n",
    "        result = (a >= b);      // 1'b1\n",
    "        \n",
    "        $display(\"a = %b, b = %b, c = %b\", a, b, c);\n",
    "        $display(\"a == b: %b\", a == b);\n",
    "        $display(\"a == c: %b\", a == c);\n",
    "        $display(\"a === c: %b\", a === c);\n",
    "    end\n",
    "endmodule\n",
    "```"
   ]
  },
  {
   "cell_type": "markdown",
   "id": "fd0aea82",
   "metadata": {},
   "source": [
    "## Conditional Operator\n",
    "\n",
    "The conditional operator provides a compact way to select between two values based on a condition."
   ]
  },
  {
   "cell_type": "markdown",
   "id": "19ea25ff",
   "metadata": {},
   "source": [
    "### Syntax\n",
    "```systemverilog\n",
    "condition ? true_expression : false_expression\n",
    "```"
   ]
  },
  {
   "cell_type": "markdown",
   "id": "aa8e8b98",
   "metadata": {},
   "source": [
    "### Examples\n",
    "\n",
    "```systemverilog\n",
    "module conditional_example;\n",
    "    logic [7:0] a = 8'd10;\n",
    "    logic [7:0] b = 8'd20;\n",
    "    logic [7:0] max_val;\n",
    "    logic [7:0] abs_diff;\n",
    "    \n",
    "    initial begin\n",
    "        // Find maximum\n",
    "        max_val = (a > b) ? a : b;  // max_val = 20\n",
    "        \n",
    "        // Absolute difference\n",
    "        abs_diff = (a > b) ? (a - b) : (b - a);  // abs_diff = 10\n",
    "        \n",
    "        // Nested conditional\n",
    "        logic [1:0] sel = 2'b10;\n",
    "        logic [7:0] mux_out;\n",
    "        mux_out = (sel == 2'b00) ? 8'd1 :\n",
    "                  (sel == 2'b01) ? 8'd2 :\n",
    "                  (sel == 2'b10) ? 8'd4 : 8'd8;  // mux_out = 4\n",
    "        \n",
    "        $display(\"max(%d, %d) = %d\", a, b, max_val);\n",
    "        $display(\"abs_diff = %d\", abs_diff);\n",
    "        $display(\"mux_out = %d\", mux_out);\n",
    "    end\n",
    "endmodule\n",
    "```"
   ]
  },
  {
   "cell_type": "markdown",
   "id": "403c479d",
   "metadata": {},
   "source": [
    "## Operator Precedence\n",
    "\n",
    "Understanding operator precedence is crucial for writing correct expressions. Operators are listed from highest to lowest precedence:\n",
    "\n",
    "| Precedence | Operators | Description |\n",
    "|------------|-----------|-------------|\n",
    "| 1 (Highest) | `()` `[]` `::` `.` | Parentheses, brackets, scope, member selection |\n",
    "| 2  | `+` `-` `!` `~` `&` `~&` `\\|` `~\\|` `^` `~^` `^~` | Unary operators |\n",
    "| 3  | `**` | Exponentiation |\n",
    "| 4  | `*` `/` `%` | Multiplication, division, modulus |\n",
    "| 5  | `+` `-` | Addition, subtraction |\n",
    "| 6  | `<<` `>>` `<<<` `>>>` | Shift operators |\n",
    "| 7  | `<` `<=` `>` `>=`     | Relational operators |\n",
    "| 8  | `==` `!=` `===` `!==` | Equality operators |\n",
    "| 9  | `&`  | Bitwise AND |\n",
    "| 10 | `^` `~^` `^~` | Bitwise XOR, XNOR |\n",
    "| 11 | `\\|`          | Bitwise OR |\n",
    "| 12 | `&&`   | Logical AND |\n",
    "| 13 | `\\|\\|` | Logical OR |\n",
    "| 14 (Lowest) | `?:` | Conditional operator |"
   ]
  },
  {
   "cell_type": "markdown",
   "id": "cc3e5dd3",
   "metadata": {},
   "source": [
    "### Examples\n",
    "\n",
    "```systemverilog\n",
    "module precedence_example;\n",
    "    logic [7:0] a = 8'd2;\n",
    "    logic [7:0] b = 8'd3;\n",
    "    logic [7:0] c = 8'd4;\n",
    "    logic [7:0] result;\n",
    "    \n",
    "    initial begin\n",
    "        // Without parentheses - follows precedence\n",
    "        result = a + b * c;     // 2 + (3 * 4) = 14\n",
    "        \n",
    "        // With parentheses - overrides precedence\n",
    "        result = (a + b) * c;   // (2 + 3) * 4 = 20\n",
    "        \n",
    "        // Complex expression\n",
    "        result = a < b && b < c ? a + b : b * c;\n",
    "        // Evaluated as: ((a < b) && (b < c)) ? (a + b) : (b * c)\n",
    "        // Result: 5 (since 2 < 3 && 3 < 4 is true)\n",
    "        \n",
    "        $display(\"a + b * c = %d\", a + b * c);\n",
    "        $display(\"(a + b) * c = %d\", (a + b) * c);\n",
    "        $display(\"Complex expression = %d\", result);\n",
    "    end\n",
    "endmodule\n",
    "```"
   ]
  },
  {
   "cell_type": "markdown",
   "id": "83c387eb",
   "metadata": {},
   "source": [
    "## Best Practices\n",
    "\n",
    "1. **Use parentheses for clarity**: Even when not required by precedence, parentheses make expressions more readable.\n",
    "2. **Be careful with signed/unsigned mixing**: SystemVerilog has specific rules for mixed arithmetic.\n",
    "3. **Use case equality for X/Z values**: Use `===` and `!==` when you need to compare X and Z values exactly.\n",
    "4. **Consider bit widths**: Ensure your result variables are wide enough to hold the operation results.\n",
    "5. **Use reduction operators efficiently**: They're powerful for checking conditions across all bits."
   ]
  },
  {
   "cell_type": "markdown",
   "id": "a6f87603",
   "metadata": {},
   "source": [
    "## Summary\n",
    "\n",
    "SystemVerilog operators provide powerful tools for data manipulation and decision making. Key points to remember:\n",
    "\n",
    "- Arithmetic operators follow standard mathematical rules with special handling for division and modulus\n",
    "- Logical operators work on expressions, bitwise operators work on individual bits\n",
    "- Reduction operators collapse multi-bit values to single bits\n",
    "- Shift operators provide both logical and arithmetic variants\n",
    "- Comparison operators include both standard and case-sensitive versions\n",
    "- The conditional operator enables compact selection logic\n",
    "- Operator precedence follows intuitive mathematical conventions but should be clarified with parentheses when in doubt\n",
    "\n",
    "Understanding these operators and their interactions is fundamental to writing effective SystemVerilog code for both design and verification."
   ]
  }
 ],
 "metadata": {
  "language_info": {
   "name": "python"
  }
 },
 "nbformat": 4,
 "nbformat_minor": 5
}
