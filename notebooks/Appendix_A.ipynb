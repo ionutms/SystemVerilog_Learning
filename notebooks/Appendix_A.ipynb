{
 "cells": [
  {
   "cell_type": "markdown",
   "id": "e65749f7",
   "metadata": {},
   "source": [
    "### Appendix A: SystemVerilog Keywords Reference\n",
    "\n",
    "This appendix provides a comprehensive reference of SystemVerilog keywords, organized by category for easy navigation and understanding."
   ]
  },
  {
   "cell_type": "markdown",
   "id": "7b6d35c0",
   "metadata": {},
   "source": [
    "#### Data Types and Variables\n",
    "\n",
    "SystemVerilog significantly enhances the data modeling capabilities of traditional Verilog by introducing a rich set of data types and more flexible variable declaration mechanisms. Understanding these fundamental building blocks is crucial for effective hardware design, verification, and system-level modeling."
   ]
  },
  {
   "cell_type": "markdown",
   "id": "d0ba0de1",
   "metadata": {},
   "source": [
    "##### Basic Data Types\n",
    "- **`bit`** - Single-bit data type (0 or 1)\n",
    "- **`logic`** - Four-state data type (0, 1, X, Z)\n",
    "- **`reg`** - Legacy register type (four-state)\n",
    "- **`wire`** - Net type for connecting components\n",
    "- **`byte`** - 8-bit signed integer\n",
    "- **`shortint`** - 16-bit signed integer\n",
    "- **`int`** - 32-bit signed integer\n",
    "- **`longint`** - 64-bit signed integer\n",
    "- **`integer`** - 32-bit signed integer (legacy)\n",
    "- **`time`** - 64-bit unsigned integer for time values\n",
    "- **`real`** - Double-precision floating-point\n",
    "- **`shortreal`** - Single-precision floating-point\n",
    "- **`realtime`** - Real-time variable type"
   ]
  },
  {
   "cell_type": "markdown",
   "id": "fb6e5e87",
   "metadata": {},
   "source": [
    "##### Packed and Unpacked Arrays\n",
    "- **`packed`** - Specifies packed array/structure\n",
    "- **`unpacked`** - Specifies unpacked array/structure (default)"
   ]
  },
  {
   "cell_type": "markdown",
   "id": "8badca87",
   "metadata": {},
   "source": [
    "##### Variable Declaration Modifiers\n",
    "- **`automatic`** - Automatic variable storage\n",
    "- **`static`** - Static variable storage\n",
    "- **`const`** - Constant declaration\n",
    "- **`var`** - Explicit variable declaration\n",
    "- **`parameter`** - Compile-time constant\n",
    "- **`localparam`** - Local parameter (not overridable)\n",
    "- **`specparam`** - Specify block parameter"
   ]
  },
  {
   "cell_type": "markdown",
   "id": "e3bc1404",
   "metadata": {},
   "source": [
    "#### Structures and User-Defined Types\n",
    "\n",
    "SystemVerilog structures and user-defined types enable designers to create custom data models that mirror real-world hardware interfaces and complex data packets. These powerful constructs transform how we organize and manipulate related data elements in both RTL design and verification environments."
   ]
  },
  {
   "cell_type": "markdown",
   "id": "c405e8b1",
   "metadata": {},
   "source": [
    "##### Structure and Union Keywords\n",
    "- **`struct`** - Structure declaration\n",
    "- **`union`** - Union declaration\n",
    "- **`tagged`** - Tagged union\n",
    "- **`enum`** - Enumerated type\n",
    "- **`typedef`** - Type definition"
   ]
  },
  {
   "cell_type": "markdown",
   "id": "db6bc0c0",
   "metadata": {},
   "source": [
    "##### Structure Modifiers\n",
    "- **`packed`** - Packed structure/union\n",
    "- **`signed`** - Signed data type\n",
    "- **`unsigned`** - Unsigned data type"
   ]
  },
  {
   "cell_type": "markdown",
   "id": "ace0b223",
   "metadata": {},
   "source": [
    "#### Classes and Object-Oriented Programming\n",
    "\n",
    "SystemVerilog classes bring object-oriented programming capabilities to hardware verification, enabling encapsulation, inheritance, and polymorphism for creating reusable and scalable testbench components. This paradigm revolutionizes verification methodology by allowing complex test environments to be built using modular, maintainable, and extensible code structures."
   ]
  },
  {
   "cell_type": "markdown",
   "id": "039889fa",
   "metadata": {},
   "source": [
    "##### Class Declaration\n",
    "- **`class`** - Class declaration\n",
    "- **`endclass`** - End of class declaration\n",
    "- **`extends`** - Class inheritance\n",
    "- **`implements`** - Interface implementation"
   ]
  },
  {
   "cell_type": "markdown",
   "id": "e3fbbf21",
   "metadata": {},
   "source": [
    "##### Class Members and Methods\n",
    "- **`function`** - Function declaration\n",
    "- **`endfunction`** - End of function\n",
    "- **`task`** - Task declaration\n",
    "- **`endtask`** - End of task\n",
    "- **`new`** - Constructor method\n",
    "- **`this`** - Reference to current object\n",
    "- **`super`** - Reference to parent class"
   ]
  },
  {
   "cell_type": "markdown",
   "id": "fef0a50a",
   "metadata": {},
   "source": [
    "##### Access Control\n",
    "- **`local`** - Local class member\n",
    "- **`protected`** - Protected class member\n",
    "- **`public`** - Public class member (default)"
   ]
  },
  {
   "cell_type": "markdown",
   "id": "42b01e7e",
   "metadata": {},
   "source": [
    "##### Method Qualifiers\n",
    "- **`virtual`** - Virtual method\n",
    "- **`pure`** - Pure virtual method\n",
    "- **`extern`** - External method declaration\n",
    "- **`static`** - Static method/property"
   ]
  },
  {
   "cell_type": "markdown",
   "id": "fc007535",
   "metadata": {},
   "source": [
    "#### Interfaces and Modports\n",
    "\n",
    "SystemVerilog interfaces provide a structured way to group related signals and define communication protocols between modules, eliminating the tedious and error-prone process of connecting individual wires. Modports within interfaces specify directional views and access permissions, enabling clean separation of concerns and reusable protocol definitions across different design components."
   ]
  },
  {
   "cell_type": "markdown",
   "id": "edf89b66",
   "metadata": {},
   "source": [
    "##### Interface Keywords\n",
    "- **`interface`** - Interface declaration\n",
    "- **`endinterface`** - End of interface\n",
    "- **`modport`** - Module port specification\n",
    "- **`clocking`** - Clocking block\n",
    "- **`endclocking`** - End of clocking block"
   ]
  },
  {
   "cell_type": "markdown",
   "id": "9f3a6f35",
   "metadata": {},
   "source": [
    "##### Interface Connection\n",
    "- **`import`** - Import interface tasks/functions\n",
    "- **`export`** - Export interface tasks/functions"
   ]
  },
  {
   "cell_type": "markdown",
   "id": "84656b19",
   "metadata": {},
   "source": [
    "#### Modules and Programs\n",
    "\n",
    "SystemVerilog modules remain the fundamental building blocks for synthesizable hardware design, providing structural hierarchy and behavioral modeling capabilities for digital circuits. Programs complement modules by offering a dedicated construct for testbench code with enhanced scheduling semantics and better separation between design under test and verification environment."
   ]
  },
  {
   "cell_type": "markdown",
   "id": "87569f76",
   "metadata": {},
   "source": [
    "##### Module Keywords\n",
    "- **`module`** - Module declaration\n",
    "- **`endmodule`** - End of module\n",
    "- **`program`** - Program block\n",
    "- **`endprogram`** - End of program\n",
    "- **`package`** - Package declaration\n",
    "- **`endpackage`** - End of package"
   ]
  },
  {
   "cell_type": "markdown",
   "id": "5c738574",
   "metadata": {},
   "source": [
    "##### Port Declarations\n",
    "- **`input`** - Input port\n",
    "- **`output`** - Output port\n",
    "- **`inout`** - Bidirectional port\n",
    "- **`ref`** - Reference port (pass by reference)"
   ]
  },
  {
   "cell_type": "markdown",
   "id": "788472e9",
   "metadata": {},
   "source": [
    "#### Control Flow Statements\n",
    "\n",
    "SystemVerilog control flow statements govern the execution order and decision-making logic in both synthesizable hardware designs and verification testbenches, ranging from basic conditional statements to advanced loop constructs. These constructs enable designers to create complex behavioral models, state machines, and algorithmic processes that accurately represent real-world digital system functionality."
   ]
  },
  {
   "cell_type": "markdown",
   "id": "5136f8a5",
   "metadata": {},
   "source": [
    "##### Conditional Statements\n",
    "- **`if`** - Conditional statement\n",
    "- **`else`** - Alternative condition\n",
    "- **`case`** - Case statement\n",
    "- **`casex`** - Case with X/Z wildcards\n",
    "- **`casez`** - Case with Z wildcards\n",
    "- **`default`** - Default case\n",
    "- **`endcase`** - End of case statement\n",
    "- **`unique`** - Unique case modifier\n",
    "- **`priority`** - Priority case modifier"
   ]
  },
  {
   "cell_type": "markdown",
   "id": "95142389",
   "metadata": {},
   "source": [
    "##### Loop Statements\n",
    "- **`for`** - For loop\n",
    "- **`while`** - While loop\n",
    "- **`do`** - Do-while loop\n",
    "- **`foreach`** - Foreach loop\n",
    "- **`repeat`** - Repeat loop\n",
    "- **`forever`** - Infinite loop"
   ]
  },
  {
   "cell_type": "markdown",
   "id": "49fbcae2",
   "metadata": {},
   "source": [
    "##### Loop Control\n",
    "- **`break`** - Break from loop\n",
    "- **`continue`** - Continue to next iteration\n",
    "- **`return`** - Return from function/task"
   ]
  },
  {
   "cell_type": "markdown",
   "id": "8ef9aa3d",
   "metadata": {},
   "source": [
    "#### Procedural Blocks\n",
    "\n",
    "SystemVerilog procedural blocks define regions of code that execute based on specific triggers such as clock edges, signal changes, or simulation events, forming the foundation for both combinational and sequential logic modeling. These blocks, including always_comb, always_ff, and always procedures, provide precise control over when and how behavioral code executes in hardware designs and testbenches."
   ]
  },
  {
   "cell_type": "markdown",
   "id": "1dde53a8",
   "metadata": {},
   "source": [
    "##### Always Blocks\n",
    "- **`always`** - Always procedural block\n",
    "- **`always_comb`** - Combinational always block\n",
    "- **`always_ff`** - Flip-flop always block\n",
    "- **`always_latch`** - Latch always block"
   ]
  },
  {
   "cell_type": "markdown",
   "id": "bb6aba19",
   "metadata": {},
   "source": [
    "##### Initial and Final\n",
    "- **`initial`** - Initial procedural block\n",
    "- **`final`** - Final procedural block"
   ]
  },
  {
   "cell_type": "markdown",
   "id": "ada7e1e7",
   "metadata": {},
   "source": [
    "##### Generate Blocks\n",
    "- **`generate`** - Generate block\n",
    "- **`endgenerate`** - End of generate block\n",
    "- **`genvar`** - Generate variable"
   ]
  },
  {
   "cell_type": "markdown",
   "id": "f434f73b",
   "metadata": {},
   "source": [
    "#### Timing and Events\n",
    "\n",
    "SystemVerilog timing and event mechanisms control the precise scheduling and synchronization of operations in simulation, enabling accurate modeling of real-world hardware timing relationships and signal dependencies. These constructs provide sophisticated control over when actions occur, from simple delays and clock-based timing to complex inter-process communication and synchronization patterns essential for verification environments."
   ]
  },
  {
   "cell_type": "markdown",
   "id": "8aad3c97",
   "metadata": {},
   "source": [
    "##### Event Control\n",
    "- **`@`** - Event control operator\n",
    "- **`wait`** - Wait statement\n",
    "- **`wait_order`** - Wait for events in order\n",
    "- **`##`** - Cycle delay operator\n",
    "- **`#`** - Time delay operator"
   ]
  },
  {
   "cell_type": "markdown",
   "id": "56b20b7c",
   "metadata": {},
   "source": [
    "##### Edge Detection\n",
    "- **`posedge`** - Positive edge\n",
    "- **`negedge`** - Negative edge\n",
    "- **`edge`** - Any edge"
   ]
  },
  {
   "cell_type": "markdown",
   "id": "bb297451",
   "metadata": {},
   "source": [
    "##### Event Types\n",
    "- **`event`** - Event data type\n",
    "- **`triggered`** - Event triggered check"
   ]
  },
  {
   "cell_type": "markdown",
   "id": "cda178bf",
   "metadata": {},
   "source": [
    "#### Assertions and Verification\n",
    "\n",
    "SystemVerilog assertions provide a declarative way to specify and automatically check design properties and protocol compliance, transforming verification from reactive debugging to proactive property-based validation. These powerful constructs enable designers to embed formal specifications directly into their code, creating self-documenting designs that continuously monitor for violations during simulation and formal verification."
   ]
  },
  {
   "cell_type": "markdown",
   "id": "9d3beebe",
   "metadata": {},
   "source": [
    "##### Assertion Keywords\n",
    "- **`assert`** - Immediate assertion\n",
    "- **`assume`** - Assumption\n",
    "- **`cover`** - Coverage point\n",
    "- **`restrict`** - Restriction\n",
    "- **`expect`** - Expectation"
   ]
  },
  {
   "cell_type": "markdown",
   "id": "d26a01d2",
   "metadata": {},
   "source": [
    "##### Property and Sequence\n",
    "- **`property`** - Property declaration\n",
    "- **`endproperty`** - End of property\n",
    "- **`sequence`** - Sequence declaration\n",
    "- **`endsequence`** - End of sequence"
   ]
  },
  {
   "cell_type": "markdown",
   "id": "0471df12",
   "metadata": {},
   "source": [
    "##### Temporal Operators\n",
    "- **`not`** - Logical not\n",
    "- **`and`** - Logical and\n",
    "- **`or`** - Logical or\n",
    "- **`implies`** - Implication operator\n",
    "- **`iff`** - If and only if\n",
    "- **`throughout`** - Throughout operator\n",
    "- **`within`** - Within operator\n",
    "- **`intersect`** - Intersect operator\n",
    "- **`first_match`** - First match operator"
   ]
  },
  {
   "cell_type": "markdown",
   "id": "6606ea15",
   "metadata": {},
   "source": [
    "#### Randomization and Constraints\n",
    "\n",
    "SystemVerilog randomization capabilities enable automatic generation of diverse test stimuli through constrained random testing, dramatically improving verification coverage and bug detection compared to directed testing approaches. Constraint blocks provide sophisticated control over random value generation, allowing designers to create realistic test scenarios that respect protocol requirements, boundary conditions, and complex interdependencies between variables."
   ]
  },
  {
   "cell_type": "markdown",
   "id": "95a7b022",
   "metadata": {},
   "source": [
    "##### Random Variables\n",
    "- **`rand`** - Random variable\n",
    "- **`randc`** - Random cyclic variable"
   ]
  },
  {
   "cell_type": "markdown",
   "id": "17c09255",
   "metadata": {},
   "source": [
    "##### Constraint Blocks\n",
    "- **`constraint`** - Constraint block\n",
    "- **`solve`** - Solve order specification\n",
    "- **`before`** - Solve before constraint"
   ]
  },
  {
   "cell_type": "markdown",
   "id": "7d0d3b1c",
   "metadata": {},
   "source": [
    "##### Randomization Methods\n",
    "- **`randomize`** - Randomization method\n",
    "- **`srandom`** - Set random seed"
   ]
  },
  {
   "cell_type": "markdown",
   "id": "a7d450f3",
   "metadata": {},
   "source": [
    "##### Distribution Keywords\n",
    "- **`dist`** - Distribution constraint\n",
    "- **`inside`** - Inside constraint"
   ]
  },
  {
   "cell_type": "markdown",
   "id": "431e7b4d",
   "metadata": {},
   "source": [
    "#### Coverage\n",
    "\n",
    "SystemVerilog coverage mechanisms provide quantitative metrics to measure verification completeness by tracking which design features, states, and scenarios have been exercised during testing. These powerful constructs include functional coverage for user-defined verification goals and code coverage for structural analysis, enabling verification teams to identify testing gaps and achieve comprehensive design validation with measurable confidence."
   ]
  },
  {
   "cell_type": "markdown",
   "id": "7654b4c4",
   "metadata": {},
   "source": [
    "##### Covergroup Keywords\n",
    "- **`covergroup`** - Coverage group declaration\n",
    "- **`endgroup`** - End of coverage group\n",
    "- **`coverpoint`** - Coverage point\n",
    "- **`cross`** - Cross coverage\n",
    "- **`bins`** - Coverage bins\n",
    "- **`ignore_bins`** - Ignore bins\n",
    "- **`illegal_bins`** - Illegal bins"
   ]
  },
  {
   "cell_type": "markdown",
   "id": "f97be10a",
   "metadata": {},
   "source": [
    "##### Coverage Options\n",
    "- **`option`** - Coverage option\n",
    "- **`type_option`** - Type option for coverage"
   ]
  },
  {
   "cell_type": "markdown",
   "id": "7ff20a98",
   "metadata": {},
   "source": [
    "#### DPI (Direct Programming Interface)\n",
    "\n",
    "SystemVerilog DPI enables seamless integration between SystemVerilog code and external programming languages like C/C++, allowing designers to leverage existing software libraries, algorithms, and system-level models within verification environments. This powerful interface provides bidirectional communication capabilities, enabling complex mathematical computations, file operations, and legacy code integration that would be impractical or impossible to implement purely in SystemVerilog."
   ]
  },
  {
   "cell_type": "markdown",
   "id": "8762302e",
   "metadata": {},
   "source": [
    "##### DPI Keywords\n",
    "- **`export`** - Export DPI function\n",
    "- **`import`** - Import DPI function\n",
    "- **`dpi`** - DPI declaration\n",
    "- **`context`** - DPI context"
   ]
  },
  {
   "cell_type": "markdown",
   "id": "e1e58fab",
   "metadata": {},
   "source": [
    "#### Specify Blocks and Timing\n",
    "\n",
    "SystemVerilog specify blocks provide precise timing annotation capabilities for modeling real hardware delays, setup/hold times, and path delays essential for accurate timing simulation and static timing analysis. These constructs enable designers to create timing-aware models that accurately represent propagation delays, timing constraints, and performance characteristics of actual silicon implementations."
   ]
  },
  {
   "cell_type": "markdown",
   "id": "fb01141f",
   "metadata": {},
   "source": [
    "##### Specify Block\n",
    "- **`specify`** - Specify block\n",
    "- **`endspecify`** - End of specify block\n",
    "- **`specparam`** - Specify parameter"
   ]
  },
  {
   "cell_type": "markdown",
   "id": "8cc55674",
   "metadata": {},
   "source": [
    "##### Path Declarations\n",
    "- **`$setup`** - Setup timing check\n",
    "- **`$hold`** - Hold timing check\n",
    "- **`$width`** - Width timing check\n",
    "- **`$period`** - Period timing check"
   ]
  },
  {
   "cell_type": "markdown",
   "id": "53056152",
   "metadata": {},
   "source": [
    "#### System Tasks and Functions (Keywords)\n",
    "\n",
    "SystemVerilog system tasks and functions provide built-in utilities for essential simulation operations including display output, file I/O, memory management, and simulation control, forming the foundation for testbench development and debugging. These predefined constructs, identified by the dollar sign prefix ($), offer standardized interfaces for common verification tasks such as value monitoring, random number generation, and simulation time management."
   ]
  },
  {
   "cell_type": "markdown",
   "id": "6d30a701",
   "metadata": {},
   "source": [
    "##### Simulation Control\n",
    "- **`$finish`** - Finish simulation\n",
    "- **`$stop`** - Stop simulation\n",
    "- **`$exit`** - Exit simulation"
   ]
  },
  {
   "cell_type": "markdown",
   "id": "d69a8270",
   "metadata": {},
   "source": [
    "##### Display and File I/O\n",
    "- **`$display`** - Display formatted output\n",
    "- **`$write`** - Write formatted output\n",
    "- **`$monitor`** - Monitor variables\n",
    "- **`$strobe`** - Strobe values"
   ]
  },
  {
   "cell_type": "markdown",
   "id": "9c29d875",
   "metadata": {},
   "source": [
    "#### Compiler Directives\n",
    "\n",
    "SystemVerilog compiler directives provide preprocessing instructions that control compilation behavior, enabling conditional compilation, macro definitions, file inclusion, and configuration management across different simulation and synthesis environments. These backtick-prefixed commands allow designers to create portable, configurable code that adapts to different tools, target technologies, and verification scenarios without manual source code modification."
   ]
  },
  {
   "cell_type": "markdown",
   "id": "c0ff98aa",
   "metadata": {},
   "source": [
    "##### Preprocessor Directives\n",
    "- **`` `define``** - Define macro\n",
    "- **`` `undef``** - Undefine macro\n",
    "- **`` `ifdef``** - Conditional compilation\n",
    "- **`` `ifndef``** - Negative conditional compilation\n",
    "- **`` `else``** - Else for conditional compilation\n",
    "- **`` `elsif``** - Else-if for conditional compilation\n",
    "- **`` `endif``** - End conditional compilation\n",
    "- **`` `include``** - Include file\n",
    "- **`` `timescale``** - Time scale directive"
   ]
  },
  {
   "cell_type": "markdown",
   "id": "668c4458",
   "metadata": {},
   "source": [
    "##### Configuration Directives\n",
    "- **`` `celldefine``** - Cell definition start\n",
    "- **`` `endcelldefine``** - Cell definition end\n",
    "- **`` `default_nettype``** - Default net type\n",
    "- **`` `resetall``** - Reset all directives"
   ]
  },
  {
   "cell_type": "markdown",
   "id": "4555a189",
   "metadata": {},
   "source": [
    "#### Miscellaneous Keywords\n",
    "\n",
    "SystemVerilog miscellaneous keywords encompass specialized language constructs and reserved words that serve specific purposes in advanced design and verification scenarios, including package management, bind statements, and configuration utilities. These diverse keywords provide essential functionality for complex SystemVerilog projects, enabling sophisticated design organization, cross-module connections, and tool-specific optimizations that don't fit into other major language categories."
   ]
  },
  {
   "cell_type": "markdown",
   "id": "b4db9b5d",
   "metadata": {},
   "source": [
    "##### Special Keywords\n",
    "- **`begin`** - Begin block\n",
    "- **`end`** - End block\n",
    "- **`fork`** - Fork parallel processes\n",
    "- **`join`** - Join all processes\n",
    "- **`join_any`** - Join any process\n",
    "- **`join_none`** - Join no processes"
   ]
  },
  {
   "cell_type": "markdown",
   "id": "2de7e5d7",
   "metadata": {},
   "source": [
    "##### Strength and Drive\n",
    "- **`supply0`** - Supply 0 strength\n",
    "- **`supply1`** - Supply 1 strength\n",
    "- **`strong0`** - Strong 0 drive\n",
    "- **`strong1`** - Strong 1 drive\n",
    "- **`pull0`** - Pull down\n",
    "- **`pull1`** - Pull up\n",
    "- **`weak0`** - Weak 0 drive\n",
    "- **`weak1`** - Weak 1 drive\n",
    "- **`highz0`** - High impedance 0\n",
    "- **`highz1`** - High impedance 1"
   ]
  },
  {
   "cell_type": "markdown",
   "id": "dee768b5",
   "metadata": {},
   "source": [
    "##### Gate Primitives\n",
    "- **`and`** - AND gate\n",
    "- **`or`** - OR gate\n",
    "- **`not`** - NOT gate\n",
    "- **`nand`** - NAND gate\n",
    "- **`nor`** - NOR gate\n",
    "- **`xor`** - XOR gate\n",
    "- **`xnor`** - XNOR gate\n",
    "- **`buf`** - Buffer\n",
    "- **`bufif0`** - Tri-state buffer (active low)\n",
    "- **`bufif1`** - Tri-state buffer (active high)\n",
    "- **`notif0`** - Tri-state inverter (active low)\n",
    "- **`notif1`** - Tri-state inverter (active high)"
   ]
  },
  {
   "cell_type": "markdown",
   "id": "a4c36562",
   "metadata": {},
   "source": [
    "##### Configuration and Binding\n",
    "- **`config`** - Configuration declaration\n",
    "- **`endconfig`** - End configuration\n",
    "- **`design`** - Design specification\n",
    "- **`liblist`** - Library list\n",
    "- **`library`** - Library specification\n",
    "- **`use`** - Use clause\n",
    "- **`bind`** - Bind statement"
   ]
  },
  {
   "cell_type": "markdown",
   "id": "cc3fc769",
   "metadata": {},
   "source": [
    "#### Reserved Words (Context-Dependent)\n",
    "\n",
    "These keywords have special meaning in specific contexts:\n",
    "\n",
    "- **`alias`** - Net alias declaration\n",
    "- **`cell`** - Cell instance\n",
    "- **`checker`** - Checker declaration\n",
    "- **`endchecker`** - End checker\n",
    "- **`eventually`** - Eventually operator\n",
    "- **`global`** - Global clocking\n",
    "- **`iff`** - If and only if\n",
    "- **`implies`** - Implies operator\n",
    "- **`interconnect`** - Interconnect net type\n",
    "- **`nettype`** - User-defined net type\n",
    "- **`nexttime`** - Next time operator\n",
    "- **`s_always`** - Strong always operator\n",
    "- **`s_eventually`** - Strong eventually operator\n",
    "- **`s_nexttime`** - Strong next time operator\n",
    "- **`s_until`** - Strong until operator\n",
    "- **`s_until_with`** - Strong until with operator\n",
    "- **`soft`** - Soft constraint\n",
    "- **`strong`** - Strong operator\n",
    "- **`until`** - Until operator\n",
    "- **`until_with`** - Until with operator\n",
    "- **`untyped`** - Untyped reference\n",
    "- **`weak`** - Weak operator"
   ]
  },
  {
   "cell_type": "markdown",
   "id": "e918e256",
   "metadata": {},
   "source": [
    "#### Usage Notes\n",
    "\n",
    "1. **Case Sensitivity**: All SystemVerilog keywords are case-sensitive and must be written in lowercase.\n",
    "2. **Reserved Status**: These keywords cannot be used as identifiers (variable names, module names, etc.) in your code.\n",
    "3. **Context Dependency**: Some keywords have different meanings depending on the context in which they are used.\n",
    "4. **Version Compatibility**: Some keywords are specific to SystemVerilog and not available in traditional Verilog.\n",
    "5. **Tool Support**: Not all tools support every SystemVerilog keyword. Check your tool's documentation for supported features.\n",
    "\n",
    "This reference provides a comprehensive overview of SystemVerilog keywords. For detailed usage examples and syntax, refer to the main sections of this tutorial and the IEEE 1800 SystemVerilog standard."
   ]
  }
 ],
 "metadata": {
  "language_info": {
   "name": "python"
  }
 },
 "nbformat": 4,
 "nbformat_minor": 5
}
