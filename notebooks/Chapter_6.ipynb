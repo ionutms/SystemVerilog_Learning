{
 "cells": [
  {
   "cell_type": "markdown",
   "id": "ef755831",
   "metadata": {},
   "source": [
    "# Chapter 6: Always Blocks and Processes"
   ]
  },
  {
   "cell_type": "markdown",
   "id": "52cb433d",
   "metadata": {},
   "source": [
    "## Introduction\n",
    "\n",
    "Always blocks are fundamental constructs in SystemVerilog that describe how hardware behaves over time. They define processes that execute continuously during simulation and represent different types of hardware structures. SystemVerilog provides three specialized always blocks that make design intent clearer and help avoid common modeling mistakes."
   ]
  },
  {
   "cell_type": "markdown",
   "id": "7518bf46",
   "metadata": {},
   "source": [
    "## Types of Always Blocks\n",
    "\n",
    "SystemVerilog introduces three specialized always blocks:\n",
    "\n",
    "- `always_comb` - For combinational logic\n",
    "- `always_ff` - For sequential logic (flip-flops)\n",
    "- `always_latch` - For latches\n",
    "\n",
    "These replace the generic `always` block from Verilog and provide better checking and clearer intent."
   ]
  },
  {
   "cell_type": "markdown",
   "id": "966124f0",
   "metadata": {},
   "source": [
    "### always_comb for Combinational Logic\n",
    "\n",
    "The `always_comb` block is used to model combinational logic where outputs change immediately when inputs change."
   ]
  },
  {
   "cell_type": "markdown",
   "id": "1913f7be",
   "metadata": {},
   "source": [
    "#### Basic Syntax\n",
    "\n",
    "```systemverilog\n",
    "always_comb begin\n",
    "    // Combinational logic statements\n",
    "end\n",
    "```"
   ]
  },
  {
   "cell_type": "markdown",
   "id": "b8728bae",
   "metadata": {},
   "source": [
    "#### Key Features\n",
    "\n",
    "- Automatically sensitive to all inputs (no sensitivity list needed)\n",
    "- Executes immediately when any input changes\n",
    "- Should not contain clocked logic or memory elements\n",
    "- Helps catch incomplete sensitivity lists"
   ]
  },
  {
   "cell_type": "markdown",
   "id": "923c7b49",
   "metadata": {},
   "source": [
    "#### Examples"
   ]
  },
  {
   "cell_type": "markdown",
   "id": "078b3a7e",
   "metadata": {},
   "source": [
    "##### Simple Multiplexer\n",
    "```systemverilog\n",
    "module mux2to1 (\n",
    "    input  logic sel,\n",
    "    input  logic a, b,\n",
    "    output logic y\n",
    ");\n",
    "\n",
    "always_comb begin\n",
    "    if (sel)\n",
    "        y = b;\n",
    "    else\n",
    "        y = a;\n",
    "end\n",
    "\n",
    "endmodule\n",
    "```"
   ]
  },
  {
   "cell_type": "markdown",
   "id": "ea89088e",
   "metadata": {},
   "source": [
    "##### ALU Example\n",
    "```systemverilog\n",
    "module simple_alu (\n",
    "    input  logic [3:0] a, b,\n",
    "    input  logic [1:0] op,\n",
    "    output logic [3:0] result,\n",
    "    output logic       zero\n",
    ");\n",
    "\n",
    "always_comb begin\n",
    "    case (op)\n",
    "        2'b00: result = a + b;    // Add\n",
    "        2'b01: result = a - b;    // Subtract\n",
    "        2'b10: result = a & b;    // AND\n",
    "        2'b11: result = a | b;    // OR\n",
    "        default: result = 4'b0;\n",
    "    endcase\n",
    "    \n",
    "    zero = (result == 4'b0);\n",
    "end\n",
    "\n",
    "endmodule\n",
    "```"
   ]
  },
  {
   "cell_type": "markdown",
   "id": "dfa5a7a1",
   "metadata": {},
   "source": [
    "##### Priority Encoder\n",
    "```systemverilog\n",
    "module priority_encoder (\n",
    "    input  logic [7:0] req,\n",
    "    output logic [2:0] grant,\n",
    "    output logic       valid\n",
    ");\n",
    "\n",
    "always_comb begin\n",
    "    valid = |req;  // OR reduction - true if any bit set\n",
    "    \n",
    "    if (req[7])      grant = 3'd7;\n",
    "    else if (req[6]) grant = 3'd6;\n",
    "    else if (req[5]) grant = 3'd5;\n",
    "    else if (req[4]) grant = 3'd4;\n",
    "    else if (req[3]) grant = 3'd3;\n",
    "    else if (req[2]) grant = 3'd2;\n",
    "    else if (req[1]) grant = 3'd1;\n",
    "    else if (req[0]) grant = 3'd0;\n",
    "    else             grant = 3'd0;\n",
    "end\n",
    "\n",
    "endmodule\n",
    "```"
   ]
  },
  {
   "cell_type": "markdown",
   "id": "b499afcf",
   "metadata": {},
   "source": [
    "### always_ff for Sequential Logic\n",
    "\n",
    "The `always_ff` block is used to model sequential logic elements like flip-flops and registers."
   ]
  },
  {
   "cell_type": "markdown",
   "id": "81f7cb10",
   "metadata": {},
   "source": [
    "#### Basic Syntax\n",
    "\n",
    "```systemverilog\n",
    "always_ff @(posedge clk) begin\n",
    "    // Sequential logic statements\n",
    "end\n",
    "\n",
    "// With reset\n",
    "always_ff @(posedge clk or negedge rst_n) begin\n",
    "    if (!rst_n) begin\n",
    "        // Reset logic\n",
    "    end else begin\n",
    "        // Normal clocked logic\n",
    "    end\n",
    "end\n",
    "```"
   ]
  },
  {
   "cell_type": "markdown",
   "id": "7a8f0e37",
   "metadata": {},
   "source": [
    "#### Key Features\n",
    "\n",
    "- Must have a clocking event in sensitivity list\n",
    "- Models memory elements (flip-flops, registers)\n",
    "- Can include asynchronous reset/set\n",
    "- Should use non-blocking assignments (<=) for clocked logic"
   ]
  },
  {
   "cell_type": "markdown",
   "id": "1feda255",
   "metadata": {},
   "source": [
    "#### Examples"
   ]
  },
  {
   "cell_type": "markdown",
   "id": "43f9c383",
   "metadata": {},
   "source": [
    "##### Simple D Flip-Flop\n",
    "```systemverilog\n",
    "module dff (\n",
    "    input  logic clk,\n",
    "    input  logic rst_n,\n",
    "    input  logic d,\n",
    "    output logic q\n",
    ");\n",
    "\n",
    "always_ff @(posedge clk or negedge rst_n) begin\n",
    "    if (!rst_n)\n",
    "        q <= 1'b0;\n",
    "    else\n",
    "        q <= d;\n",
    "end\n",
    "\n",
    "endmodule\n",
    "```"
   ]
  },
  {
   "cell_type": "markdown",
   "id": "c7485c35",
   "metadata": {},
   "source": [
    "##### Counter with Enable\n",
    "```systemverilog\n",
    "module counter (\n",
    "    input  logic       clk,\n",
    "    input  logic       rst_n,\n",
    "    input  logic       enable,\n",
    "    input  logic       load,\n",
    "    input  logic [7:0] load_value,\n",
    "    output logic [7:0] count\n",
    ");\n",
    "\n",
    "always_ff @(posedge clk or negedge rst_n) begin\n",
    "    if (!rst_n) begin\n",
    "        count <= 8'b0;\n",
    "    end else if (load) begin\n",
    "        count <= load_value;\n",
    "    end else if (enable) begin\n",
    "        count <= count + 1;\n",
    "    end\n",
    "    // If neither load nor enable, count maintains its value\n",
    "end\n",
    "\n",
    "endmodule\n",
    "```"
   ]
  },
  {
   "cell_type": "markdown",
   "id": "5a7718dd",
   "metadata": {},
   "source": [
    "##### Shift Register\n",
    "```systemverilog\n",
    "module shift_register #(\n",
    "    parameter WIDTH = 8\n",
    ")(\n",
    "    input  logic             clk,\n",
    "    input  logic             rst_n,\n",
    "    input  logic             shift_en,\n",
    "    input  logic             serial_in,\n",
    "    output logic             serial_out,\n",
    "    output logic [WIDTH-1:0] parallel_out\n",
    ");\n",
    "\n",
    "logic [WIDTH-1:0] shift_reg;\n",
    "\n",
    "always_ff @(posedge clk or negedge rst_n) begin\n",
    "    if (!rst_n) begin\n",
    "        shift_reg <= '0;\n",
    "    end else if (shift_en) begin\n",
    "        shift_reg <= {shift_reg[WIDTH-2:0], serial_in};\n",
    "    end\n",
    "end\n",
    "\n",
    "assign serial_out = shift_reg[WIDTH-1];\n",
    "assign parallel_out = shift_reg;\n",
    "\n",
    "endmodule\n",
    "```"
   ]
  },
  {
   "cell_type": "markdown",
   "id": "d1d859d7",
   "metadata": {},
   "source": [
    "##### State Machine Example\n",
    "```systemverilog\n",
    "typedef enum logic [1:0] {\n",
    "    IDLE = 2'b00,\n",
    "    ACTIVE = 2'b01,\n",
    "    WAIT = 2'b10,\n",
    "    DONE = 2'b11\n",
    "} state_t;\n",
    "\n",
    "module fsm (\n",
    "    input  logic   clk,\n",
    "    input  logic   rst_n,\n",
    "    input  logic   start,\n",
    "    input  logic   ready,\n",
    "    output logic   busy,\n",
    "    output logic   complete\n",
    ");\n",
    "\n",
    "state_t current_state, next_state;\n",
    "\n",
    "// State register\n",
    "always_ff @(posedge clk or negedge rst_n) begin\n",
    "    if (!rst_n)\n",
    "        current_state <= IDLE;\n",
    "    else\n",
    "        current_state <= next_state;\n",
    "end\n",
    "\n",
    "// Next state logic (combinational)\n",
    "always_comb begin\n",
    "    case (current_state)\n",
    "        IDLE: begin\n",
    "            if (start)\n",
    "                next_state = ACTIVE;\n",
    "            else\n",
    "                next_state = IDLE;\n",
    "        end\n",
    "        \n",
    "        ACTIVE: begin\n",
    "            if (ready)\n",
    "                next_state = WAIT;\n",
    "            else\n",
    "                next_state = ACTIVE;\n",
    "        end\n",
    "        \n",
    "        WAIT: begin\n",
    "            next_state = DONE;\n",
    "        end\n",
    "        \n",
    "        DONE: begin\n",
    "            next_state = IDLE;\n",
    "        end\n",
    "        \n",
    "        default: next_state = IDLE;\n",
    "    endcase\n",
    "end\n",
    "\n",
    "// Output logic (combinational)\n",
    "always_comb begin\n",
    "    busy = (current_state != IDLE) && (current_state != DONE);\n",
    "    complete = (current_state == DONE);\n",
    "end\n",
    "\n",
    "endmodule\n",
    "```"
   ]
  },
  {
   "cell_type": "markdown",
   "id": "afe21ddc",
   "metadata": {},
   "source": [
    "### always_latch for Latches\n",
    "\n",
    "The `always_latch` block is used to model transparent latches, though latches are generally discouraged in synchronous design."
   ]
  },
  {
   "cell_type": "markdown",
   "id": "0032bc63",
   "metadata": {},
   "source": [
    "#### Basic Syntax\n",
    "\n",
    "```systemverilog\n",
    "always_latch begin\n",
    "    // Latch logic statements\n",
    "end\n",
    "```"
   ]
  },
  {
   "cell_type": "markdown",
   "id": "b3b4f060",
   "metadata": {},
   "source": [
    "#### Key Features\n",
    "\n",
    "- Models level-sensitive storage elements\n",
    "- Should be avoided in most synchronous designs\n",
    "- Can cause timing issues and make verification difficult\n",
    "- Sometimes used for specific analog or mixed-signal applications"
   ]
  },
  {
   "cell_type": "markdown",
   "id": "67b2d068",
   "metadata": {},
   "source": [
    "#### Example\n",
    "\n",
    "```systemverilog\n",
    "module d_latch (\n",
    "    input  logic enable,\n",
    "    input  logic d,\n",
    "    output logic q\n",
    ");\n",
    "\n",
    "always_latch begin\n",
    "    if (enable)\n",
    "        q = d;\n",
    "    // When enable is low, q retains its value (latch behavior)\n",
    "end\n",
    "\n",
    "endmodule\n",
    "```"
   ]
  },
  {
   "cell_type": "markdown",
   "id": "cab63082",
   "metadata": {},
   "source": [
    "### Blocking vs. Non-Blocking Assignments\n",
    "\n",
    "Understanding the difference between blocking (=) and non-blocking (<=) assignments is crucial for proper hardware modeling."
   ]
  },
  {
   "cell_type": "markdown",
   "id": "fa371bce",
   "metadata": {},
   "source": [
    "#### Blocking Assignments (=)\n",
    "\n",
    "- Execute immediately in sequence\n",
    "- Used in combinational logic (`always_comb`)\n",
    "- Model wire-like behavior\n",
    "- Can create race conditions if misused"
   ]
  },
  {
   "cell_type": "markdown",
   "id": "ca1cc5a6",
   "metadata": {},
   "source": [
    "#### Non-Blocking Assignments (<=)\n",
    "\n",
    "- Scheduled to execute at end of time step\n",
    "- Used in sequential logic (`always_ff`)\n",
    "- Model register-like behavior\n",
    "- Prevent race conditions in clocked logic"
   ]
  },
  {
   "cell_type": "markdown",
   "id": "b339ee65",
   "metadata": {},
   "source": [
    "#### Examples Comparing Both"
   ]
  },
  {
   "cell_type": "markdown",
   "id": "1ff3f721",
   "metadata": {},
   "source": [
    "##### Combinational Logic - Use Blocking (=)\n",
    "```systemverilog\n",
    "// Correct - using blocking assignments\n",
    "always_comb begin\n",
    "    temp = a & b;\n",
    "    y = temp | c;\n",
    "end\n",
    "\n",
    "// Incorrect - non-blocking in combinational logic\n",
    "always_comb begin\n",
    "    temp <= a & b;  // Wrong!\n",
    "    y <= temp | c;  // Wrong! - temp not updated yet\n",
    "end\n",
    "```"
   ]
  },
  {
   "cell_type": "markdown",
   "id": "7bc9f90b",
   "metadata": {},
   "source": [
    "##### Sequential Logic - Use Non-Blocking (<=)\n",
    "```systemverilog\n",
    "// Correct - using non-blocking assignments\n",
    "always_ff @(posedge clk) begin\n",
    "    q1 <= d;\n",
    "    q2 <= q1;  // Creates shift register\n",
    "end\n",
    "\n",
    "// Incorrect - blocking in sequential logic\n",
    "always_ff @(posedge clk) begin\n",
    "    q1 = d;\n",
    "    q2 = q1;   // Both update to 'd' simultaneously - not a shift register!\n",
    "end\n",
    "```"
   ]
  },
  {
   "cell_type": "markdown",
   "id": "edb43704",
   "metadata": {},
   "source": [
    "### Best Practices Summary\n",
    "\n",
    "1. **Combinational logic (`always_comb`)**: Use blocking assignments (=)\n",
    "2. **Sequential logic (`always_ff`)**: Use non-blocking assignments (<=)\n",
    "3. **Mixed assignments**: Never mix blocking and non-blocking in the same always block"
   ]
  },
  {
   "cell_type": "markdown",
   "id": "c1fb568f",
   "metadata": {},
   "source": [
    "### Race Conditions and Common Pitfalls"
   ]
  },
  {
   "cell_type": "markdown",
   "id": "2a9eae93",
   "metadata": {},
   "source": [
    "#### Race Condition Example\n",
    "\n",
    "```systemverilog\n",
    "// Problematic code - race condition\n",
    "module race_example (\n",
    "    input  logic clk,\n",
    "    input  logic d,\n",
    "    output logic q1, q2\n",
    ");\n",
    "\n",
    "// Two separate always blocks updating at same time\n",
    "always_ff @(posedge clk) begin\n",
    "    q1 <= d;\n",
    "end\n",
    "\n",
    "always_ff @(posedge clk) begin\n",
    "    q2 <= q1;  // Race condition! Order of execution matters\n",
    "end\n",
    "\n",
    "endmodule\n",
    "```\n",
    "\n",
    "```systemverilog\n",
    "// Better approach - combine into one always block\n",
    "always_ff @(posedge clk) begin\n",
    "    q1 <= d;\n",
    "    q2 <= q1;  // Now guaranteed to work correctly\n",
    "end\n",
    "```"
   ]
  },
  {
   "cell_type": "markdown",
   "id": "816debf6",
   "metadata": {},
   "source": [
    "#### Incomplete Sensitivity Lists (Verilog issue fixed by always_comb)\n",
    "\n",
    "```systemverilog\n",
    "// Old Verilog style - error prone\n",
    "always @(a, b) begin  // Forgot 'c' in sensitivity list!\n",
    "    y = a & b;\n",
    "    z = y | c;        // 'z' won't update when 'c' changes\n",
    "end\n",
    "\n",
    "// SystemVerilog solution - automatic sensitivity\n",
    "always_comb begin\n",
    "    y = a & b;\n",
    "    z = y | c;        // Automatically sensitive to a, b, and c\n",
    "end\n",
    "```"
   ]
  },
  {
   "cell_type": "markdown",
   "id": "0254e2cc",
   "metadata": {},
   "source": [
    "#### Process Control and Advanced Topics"
   ]
  },
  {
   "cell_type": "markdown",
   "id": "0d5e3154",
   "metadata": {},
   "source": [
    "#### Multiple Clock Domains\n",
    "\n",
    "```systemverilog\n",
    "module dual_clock_design (\n",
    "    input  logic clk1, clk2,\n",
    "    input  logic rst_n,\n",
    "    input  logic data_in,\n",
    "    output logic data_out\n",
    ");\n",
    "\n",
    "logic ff1, ff2;\n",
    "\n",
    "// Clock domain 1\n",
    "always_ff @(posedge clk1 or negedge rst_n) begin\n",
    "    if (!rst_n)\n",
    "        ff1 <= 1'b0;\n",
    "    else\n",
    "        ff1 <= data_in;\n",
    "end\n",
    "\n",
    "// Clock domain 2\n",
    "always_ff @(posedge clk2 or negedge rst_n) begin\n",
    "    if (!rst_n)\n",
    "        ff2 <= 1'b0;\n",
    "    else\n",
    "        ff2 <= ff1;  // Potential metastability issue!\n",
    "end\n",
    "\n",
    "assign data_out = ff2;\n",
    "\n",
    "endmodule\n",
    "```"
   ]
  },
  {
   "cell_type": "markdown",
   "id": "d986a150",
   "metadata": {},
   "source": [
    "#### Generate Blocks with Always Blocks\n",
    "\n",
    "```systemverilog\n",
    "module parameterized_register #(\n",
    "    parameter WIDTH = 8,\n",
    "    parameter STAGES = 4\n",
    ")(\n",
    "    input  logic             clk,\n",
    "    input  logic             rst_n,\n",
    "    input  logic [WIDTH-1:0] data_in,\n",
    "    output logic [WIDTH-1:0] data_out\n",
    ");\n",
    "\n",
    "logic [WIDTH-1:0] pipe_reg [STAGES-1:0];\n",
    "\n",
    "genvar i;\n",
    "generate\n",
    "    for (i = 0; i < STAGES; i++) begin : pipe_stage\n",
    "        always_ff @(posedge clk or negedge rst_n) begin\n",
    "            if (!rst_n) begin\n",
    "                pipe_reg[i] <= '0;\n",
    "            end else begin\n",
    "                if (i == 0)\n",
    "                    pipe_reg[i] <= data_in;\n",
    "                else\n",
    "                    pipe_reg[i] <= pipe_reg[i-1];\n",
    "            end\n",
    "        end\n",
    "    end\n",
    "endgenerate\n",
    "\n",
    "assign data_out = pipe_reg[STAGES-1];\n",
    "\n",
    "endmodule\n",
    "```"
   ]
  },
  {
   "cell_type": "markdown",
   "id": "3b6b715b",
   "metadata": {},
   "source": [
    "### Best Practices and Guidelines"
   ]
  },
  {
   "cell_type": "markdown",
   "id": "f98d8f5e",
   "metadata": {},
   "source": [
    "#### Design Guidelines\n",
    "\n",
    "1. **Use appropriate always block types**:\n",
    "   - `always_comb` for combinational logic\n",
    "   - `always_ff` for sequential logic\n",
    "   - Avoid `always_latch` unless specifically needed\n",
    "\n",
    "2. **Assignment types**:\n",
    "   - Blocking (=) in `always_comb`\n",
    "   - Non-blocking (<=) in `always_ff`\n",
    "   - Never mix both types in the same block\n",
    "\n",
    "3. **Reset strategy**:\n",
    "   - Use asynchronous reset for critical paths\n",
    "   - Consider synchronous reset for better timing\n",
    "   - Initialize all registers consistently\n",
    "\n",
    "4. **Avoid common mistakes**:\n",
    "   - Incomplete case statements\n",
    "   - Inferred latches from incomplete if-else chains\n",
    "   - Multiple drivers to same signal"
   ]
  },
  {
   "cell_type": "markdown",
   "id": "e180cc40",
   "metadata": {},
   "source": [
    "#### Code Style Example\n",
    "\n",
    "```systemverilog\n",
    "module good_style_example (\n",
    "    input  logic       clk,\n",
    "    input  logic       rst_n,\n",
    "    input  logic [7:0] data_in,\n",
    "    input  logic       enable,\n",
    "    output logic [7:0] data_out,\n",
    "    output logic       valid\n",
    ");\n",
    "\n",
    "// Sequential logic - use always_ff with non-blocking\n",
    "always_ff @(posedge clk or negedge rst_n) begin\n",
    "    if (!rst_n) begin\n",
    "        data_out <= 8'b0;\n",
    "        valid    <= 1'b0;\n",
    "    end else if (enable) begin\n",
    "        data_out <= data_in;\n",
    "        valid    <= 1'b1;\n",
    "    end else begin\n",
    "        valid    <= 1'b0;\n",
    "        // data_out retains its value\n",
    "    end\n",
    "end\n",
    "\n",
    "endmodule\n",
    "```"
   ]
  },
  {
   "cell_type": "markdown",
   "id": "4add6067",
   "metadata": {},
   "source": [
    "### Summary\n",
    "\n",
    "Always blocks are the cornerstone of behavioral modeling in SystemVerilog. The three specialized types (`always_comb`, `always_ff`, `always_latch`) provide clear intent and help prevent common coding errors. Understanding when to use blocking vs. non-blocking assignments is crucial for creating hardware that behaves as intended. Following the best practices outlined in this chapter will lead to more reliable, synthesizable, and maintainable code.\n"
   ]
  },
  {
   "cell_type": "markdown",
   "id": "7256d3f5",
   "metadata": {},
   "source": [
    "### Key Takeaways\n",
    "\n",
    "- Use `always_comb` for combinational logic with blocking assignments (=)\n",
    "- Use `always_ff` for sequential logic with non-blocking assignments (<=)\n",
    "- Avoid `always_latch` unless specifically required\n",
    "- Be consistent with reset strategies\n",
    "- Understand race conditions and how to avoid them\n",
    "- Always consider the hardware implications of your code"
   ]
  }
 ],
 "metadata": {
  "language_info": {
   "name": "python"
  }
 },
 "nbformat": 4,
 "nbformat_minor": 5
}
