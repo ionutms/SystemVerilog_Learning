{
  "cells": [
    {
      "cell_type": "markdown",
      "id": "dc9cb514",
      "metadata": {},
      "source": [
        "# Chapter 4.0"
      ]
    },
    {
      "cell_type": "markdown",
      "id": "24c31c2a",
      "metadata": {},
      "source": [
        "## Control Flow Statements\n",
        "\n",
        "Control flow statements in SystemVerilog allow you to control the execution path of your code based on conditions and loops. This chapter covers all essential control structures used in both synthesizable RTL design and testbench development."
      ]
    }
  ],
  "metadata": {
    "kernelspec": {
      "display_name": "systemverilog_learning",
      "language": "python",
      "name": "python3"
    },
    "language_info": {
      "codemirror_mode": {
        "name": "ipython",
        "version": 3
      },
      "file_extension": ".py",
      "mimetype": "text/x-python",
      "name": "python",
      "nbconvert_exporter": "python",
      "pygments_lexer": "ipython3",
      "version": "3.13.3"
    }
  },
  "nbformat": 4,
  "nbformat_minor": 5
}