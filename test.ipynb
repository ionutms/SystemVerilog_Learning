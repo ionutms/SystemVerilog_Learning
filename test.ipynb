{
 "cells": [
  {
   "cell_type": "markdown",
   "id": "d2f29a31",
   "metadata": {},
   "source": [
    "# Test"
   ]
  }
 ],
 "metadata": {
  "kernelspec": {
   "display_name": "systemverilog_learning",
   "language": "python",
   "name": "python3"
  },
  "language_info": {
   "name": "python",
   "version": "3.13.3"
  }
 },
 "nbformat": 4,
 "nbformat_minor": 5
}
